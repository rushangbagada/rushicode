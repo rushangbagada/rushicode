{
 "cells": [
  {
   "cell_type": "markdown",
   "metadata": {},
   "source": [
    "# Sets\n",
    "-  set are same as list but with a difference  that sets are list with no duplicate entries.\n",
    "- set is mutable and an unordered collection of items. this means that we can easily add or remove item from it."
   ]
  },
  {
   "cell_type": "code",
   "execution_count": 2,
   "metadata": {},
   "outputs": [
    {
     "name": "stdout",
     "output_type": "stream",
     "text": [
      "{1, 2, 3, 4, 5, 6}\n"
     ]
    }
   ],
   "source": [
    "list1  =[1,2,3,4,5,6,5,4,3,2,1]\n",
    "print(set(list1)) #  list is converted into set"
   ]
  },
  {
   "cell_type": "code",
   "execution_count": 3,
   "metadata": {},
   "outputs": [
    {
     "name": "stdout",
     "output_type": "stream",
     "text": [
      "{'d', 'e', 'a', 'b', 'c'}\n"
     ]
    }
   ],
   "source": [
    "tup1 = ('a','b','c','d','e','a')\n",
    "print(set(tup1))"
   ]
  },
  {
   "cell_type": "code",
   "execution_count": 4,
   "metadata": {},
   "outputs": [
    {
     "name": "stdout",
     "output_type": "stream",
     "text": [
      "{'d', 'k', 'e', 'a', 'i', 'n', 'f', 'b', 'c', 'l', 'm', 'h', 'g'}\n"
     ]
    }
   ],
   "source": [
    "str =\"abcdefghigklmn\"\n",
    "print(set(str))"
   ]
  },
  {
   "cell_type": "code",
   "execution_count": 6,
   "metadata": {},
   "outputs": [
    {
     "name": "stdout",
     "output_type": "stream",
     "text": [
      "{'csharp', 'c', 'python', 'cpp', 'java'}\n"
     ]
    }
   ],
   "source": [
    "#  set of words\n",
    "print(set(\"c cpp java csharp python\".split()))"
   ]
  },
  {
   "cell_type": "code",
   "execution_count": 1,
   "metadata": {},
   "outputs": [
    {
     "name": "stdout",
     "output_type": "stream",
     "text": [
      "Codes : {'Mani', 'Mohit', 'Gopesh', 'Ankit'}\n",
      "Analysts : {'Mani', 'Krish', 'Abhishek', 'Gopesh'}\n",
      "People working as coder as well as Analysts {'Mani', 'Gopesh'}\n",
      "People woking as coder or Analysts  {'Ankit', 'Abhishek', 'Mohit', 'Krish', 'Mani', 'Gopesh'}\n",
      "People working as coder but not analysts {'Mohit', 'Ankit'}\n",
      "People working as Analysts but not coder {'Krish', 'Abhishek'}\n",
      "People working in only one of the gropus {'Ankit', 'Abhishek', 'Mohit', 'Krish'}\n"
     ]
    }
   ],
   "source": [
    "# Set Operations\n",
    "coder =set([\"Ankit\",\"Gopesh\",\"Mani\",\"Mohit\"])\n",
    "analysts=set([\"Krish\",\"Abhishek\",\"Mani\",\"Gopesh\"])\n",
    "print(\"Codes :\",coder)\n",
    "print(\"Analysts :\",analysts)\n",
    "# Finding common members in both groups\n",
    "print(\"People working as coder as well as Analysts\",coder.intersection(analysts))\n",
    "# Finding people working in either role\n",
    "print(\"People woking as coder or Analysts \",coder.union(analysts))\n",
    "# Finding coders who are not analysts\n",
    "print(\"People working as coder but not analysts\",coder.difference(analysts))\n",
    "# Finding analysts who are not coders\n",
    "print(\"People working as Analysts but not coder\",analysts.difference(coder))\n",
    "# Finding people who are in only one of the groups\n",
    "# symmetric_difference() finds the exclusive elements between two sets.\n",
    "#  coders.union(analysts)−coders.intersection(analysts)\n",
    "print(\"People working in only one of the gropus\",coder.symmetric_difference(analysts)) "
   ]
  },
  {
   "cell_type": "code",
   "execution_count": 5,
   "metadata": {},
   "outputs": [
    {
     "name": "stdout",
     "output_type": "stream",
     "text": [
      "{1, 2, 3, 4, 5}\n"
     ]
    }
   ],
   "source": [
    "# Updating Sets\n",
    "# Adds elements from another set (or iterable) to the current set.\n",
    "set1 = {1, 2, 3}\n",
    "set2 = {3, 4, 5}\n",
    "set1.update(set2)\n",
    "print(set1)  # Output: {1, 2, 3, 4, 5}  # Duplicates are automatically removed\n"
   ]
  },
  {
   "cell_type": "code",
   "execution_count": 7,
   "metadata": {},
   "outputs": [
    {
     "name": "stdout",
     "output_type": "stream",
     "text": [
      "{3, 4}\n"
     ]
    }
   ],
   "source": [
    "# intersection_update() Keeps only elements present in both sets.\n",
    "set1 = {1, 2, 3, 4}\n",
    "set2 = {3, 4, 5, 6}\n",
    "\n",
    "set1.intersection_update(set2) # Modifies set1 to contain only common elements.\n",
    "print(set1)  # Output: {3, 4}\n"
   ]
  },
  {
   "cell_type": "code",
   "execution_count": 9,
   "metadata": {},
   "outputs": [
    {
     "name": "stdout",
     "output_type": "stream",
     "text": [
      "{1, 2, 5}\n"
     ]
    }
   ],
   "source": [
    "# difference_update()\n",
    "# Removes elements from the current set that exist in another set.\n",
    "set1 = {1, 2, 3, 4, 5}\n",
    "set2 = {3, 4}\n",
    "\n",
    "set1.difference_update(set2)\n",
    "print(set1)  # Output: {1, 2, 5}\n"
   ]
  },
  {
   "cell_type": "code",
   "execution_count": 11,
   "metadata": {},
   "outputs": [
    {
     "name": "stdout",
     "output_type": "stream",
     "text": [
      "{1, 2, 5, 6}\n"
     ]
    }
   ],
   "source": [
    "# symmetric_difference_update()\n",
    "# Updates the set to contain elements present in either set but not both.\n",
    "# Removes common elements and adds unique elements.\n",
    "set1 = {1, 2, 3, 4}\n",
    "set2 = {3, 4, 5, 6}\n",
    "\n",
    "set1.symmetric_difference_update(set2)\n",
    "print(set1)  # Output: {1, 2, 5, 6}\n"
   ]
  },
  {
   "cell_type": "code",
   "execution_count": 13,
   "metadata": {},
   "outputs": [
    {
     "name": "stdout",
     "output_type": "stream",
     "text": [
      "Original Set: {1, 2, 3, 4}\n",
      "Copied Set: {1, 2, 3, 4}\n",
      "Modified Copied Set: {1, 2, 3, 4, 5}\n",
      "Original Set after modification: {1, 2, 3, 4}\n"
     ]
    }
   ],
   "source": [
    "# Using copy() Method (Shallow Copy)\n",
    "original_set = {1, 2, 3, 4}\n",
    "copied_set = original_set.copy()\n",
    "\n",
    "print(\"Original Set:\", original_set)  # Output: {1, 2, 3, 4}\n",
    "print(\"Copied Set:\", copied_set)  # Output: {1, 2, 3, 4}\n",
    "\n",
    "# Modifying copied set does not affect the original\n",
    "copied_set.add(5)\n",
    "print(\"Modified Copied Set:\", copied_set)  # Output: {1, 2, 3, 4, 5}\n",
    "print(\"Original Set after modification:\", original_set)  # Output: {1, 2, 3, 4}\n"
   ]
  },
  {
   "cell_type": "code",
   "execution_count": 5,
   "metadata": {},
   "outputs": [
    {
     "name": "stdout",
     "output_type": "stream",
     "text": [
      "{33, 11, 44, 22}\n",
      "{33, 11, 44, 22}\n"
     ]
    }
   ],
   "source": [
    "original_set1 = {1, 2, 3, 4,444,555}\n",
    "original_set2 = {11, 22, 33, 44}\n",
    "original_set1=original_set2\n",
    "print(original_set1)\n",
    "print(original_set2)\n"
   ]
  },
  {
   "cell_type": "code",
   "execution_count": 15,
   "metadata": {},
   "outputs": [
    {
     "name": "stdout",
     "output_type": "stream",
     "text": [
      "Copied Set: {10, 20, 30}\n"
     ]
    }
   ],
   "source": [
    "# Using set() Constructor\n",
    "original_set = {10, 20, 30}\n",
    "copied_set = set(original_set)\n",
    "print(\"Copied Set:\", copied_set)  # Output: {10, 20, 30}\n"
   ]
  },
  {
   "cell_type": "code",
   "execution_count": null,
   "metadata": {},
   "outputs": [],
   "source": [
    "#Explore:  Using deepcopy() for Nested Sets"
   ]
  },
  {
   "cell_type": "markdown",
   "metadata": {},
   "source": [
    "# Key points to remeber\n",
    "- A set cannot contain other mutable objects(like lists) \n",
    "s={10,20,[30,40]}\n",
    "Type Error : unshable type : 'list'\n",
    "\n"
   ]
  },
  {
   "cell_type": "code",
   "execution_count": null,
   "metadata": {},
   "outputs": [],
   "source": []
  }
 ],
 "metadata": {
  "kernelspec": {
   "display_name": "Python 3 (ipykernel)",
   "language": "python",
   "name": "python3"
  },
  "language_info": {
   "codemirror_mode": {
    "name": "ipython",
    "version": 3
   },
   "file_extension": ".py",
   "mimetype": "text/x-python",
   "name": "python",
   "nbconvert_exporter": "python",
   "pygments_lexer": "ipython3",
   "version": "3.8.16"
  }
 },
 "nbformat": 4,
 "nbformat_minor": 4
}
